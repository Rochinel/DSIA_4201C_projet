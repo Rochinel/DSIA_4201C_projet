{
 "cells": [
  {
   "cell_type": "code",
   "execution_count": 1,
   "metadata": {},
   "outputs": [],
   "source": [
    "from pymongo import MongoClient\n",
    "import pandas as pd"
   ]
  },
  {
   "cell_type": "code",
   "execution_count": 2,
   "metadata": {},
   "outputs": [],
   "source": [
    "client = MongoClient()"
   ]
  },
  {
   "cell_type": "code",
   "execution_count": 3,
   "metadata": {},
   "outputs": [],
   "source": [
    "#clinet = MongoClient()\n",
    "db = client[\"test\"]\n",
    "voitures = db['scrapy_car']"
   ]
  },
  {
   "cell_type": "code",
   "execution_count": 4,
   "metadata": {},
   "outputs": [],
   "source": [
    "data = pd.DataFrame(list(voitures.find()))"
   ]
  },
  {
   "cell_type": "code",
   "execution_count": 5,
   "metadata": {},
   "outputs": [
    {
     "data": {
      "text/plain": [
       "Index(['_id', 'annee', 'km_compteur', 'energie', 'boite_de_vitesse', 'couleur',\n",
       "       'nb_porte', 'version', 'marque', 'model', 'price', 'title_info',\n",
       "       'lien'],\n",
       "      dtype='object')"
      ]
     },
     "execution_count": 5,
     "metadata": {},
     "output_type": "execute_result"
    }
   ],
   "source": [
    "data.columns"
   ]
  },
  {
   "cell_type": "code",
   "execution_count": 6,
   "metadata": {},
   "outputs": [
    {
     "data": {
      "text/html": [
       "<div>\n",
       "<style scoped>\n",
       "    .dataframe tbody tr th:only-of-type {\n",
       "        vertical-align: middle;\n",
       "    }\n",
       "\n",
       "    .dataframe tbody tr th {\n",
       "        vertical-align: top;\n",
       "    }\n",
       "\n",
       "    .dataframe thead th {\n",
       "        text-align: right;\n",
       "    }\n",
       "</style>\n",
       "<table border=\"1\" class=\"dataframe\">\n",
       "  <thead>\n",
       "    <tr style=\"text-align: right;\">\n",
       "      <th></th>\n",
       "      <th>annee</th>\n",
       "      <th>marque</th>\n",
       "      <th>energie</th>\n",
       "      <th>boite_de_vitesse</th>\n",
       "      <th>price</th>\n",
       "    </tr>\n",
       "  </thead>\n",
       "  <tbody>\n",
       "    <tr>\n",
       "      <td>171777</td>\n",
       "      <td>2021</td>\n",
       "      <td>AUDI</td>\n",
       "      <td>Hybride essence électrique</td>\n",
       "      <td>automatique</td>\n",
       "      <td>50340€</td>\n",
       "    </tr>\n",
       "    <tr>\n",
       "      <td>161136</td>\n",
       "      <td>2021</td>\n",
       "      <td>BENTLEY</td>\n",
       "      <td>Essence</td>\n",
       "      <td>automatique</td>\n",
       "      <td>322040€</td>\n",
       "    </tr>\n",
       "    <tr>\n",
       "      <td>163161</td>\n",
       "      <td>2021</td>\n",
       "      <td>AUDI</td>\n",
       "      <td>Essence</td>\n",
       "      <td>automatique</td>\n",
       "      <td>174600€</td>\n",
       "    </tr>\n",
       "    <tr>\n",
       "      <td>163173</td>\n",
       "      <td>2021</td>\n",
       "      <td>BMW</td>\n",
       "      <td>Electrique</td>\n",
       "      <td>automatique</td>\n",
       "      <td>44580€</td>\n",
       "    </tr>\n",
       "    <tr>\n",
       "      <td>21052</td>\n",
       "      <td>2021</td>\n",
       "      <td>DACIA</td>\n",
       "      <td>Diesel</td>\n",
       "      <td>mécanique</td>\n",
       "      <td>24090€</td>\n",
       "    </tr>\n",
       "    <tr>\n",
       "      <td>87848</td>\n",
       "      <td>2021</td>\n",
       "      <td>MITSUBISHI</td>\n",
       "      <td>Hybride essence électrique</td>\n",
       "      <td>automatique</td>\n",
       "      <td>48380€</td>\n",
       "    </tr>\n",
       "    <tr>\n",
       "      <td>21057</td>\n",
       "      <td>2021</td>\n",
       "      <td>DACIA</td>\n",
       "      <td>Essence</td>\n",
       "      <td>mécanique</td>\n",
       "      <td>11040€</td>\n",
       "    </tr>\n",
       "    <tr>\n",
       "      <td>21061</td>\n",
       "      <td>2021</td>\n",
       "      <td>DACIA</td>\n",
       "      <td>Diesel</td>\n",
       "      <td>mécanique</td>\n",
       "      <td>24400€</td>\n",
       "    </tr>\n",
       "    <tr>\n",
       "      <td>87830</td>\n",
       "      <td>2021</td>\n",
       "      <td>MITSUBISHI</td>\n",
       "      <td>Hybride essence électrique</td>\n",
       "      <td>automatique</td>\n",
       "      <td>42440€</td>\n",
       "    </tr>\n",
       "    <tr>\n",
       "      <td>87799</td>\n",
       "      <td>2021</td>\n",
       "      <td>MERCEDES</td>\n",
       "      <td>Diesel</td>\n",
       "      <td>automatique</td>\n",
       "      <td>52380€</td>\n",
       "    </tr>\n",
       "    <tr>\n",
       "      <td>87788</td>\n",
       "      <td>2021</td>\n",
       "      <td>MERCEDES</td>\n",
       "      <td>Diesel</td>\n",
       "      <td>automatique</td>\n",
       "      <td>46280€</td>\n",
       "    </tr>\n",
       "    <tr>\n",
       "      <td>163319</td>\n",
       "      <td>2021</td>\n",
       "      <td>AUDI</td>\n",
       "      <td>Essence</td>\n",
       "      <td>mécanique</td>\n",
       "      <td>24130€</td>\n",
       "    </tr>\n",
       "    <tr>\n",
       "      <td>258412</td>\n",
       "      <td>2021</td>\n",
       "      <td>RENAULT</td>\n",
       "      <td>Diesel</td>\n",
       "      <td>automatique</td>\n",
       "      <td>32560€</td>\n",
       "    </tr>\n",
       "    <tr>\n",
       "      <td>21118</td>\n",
       "      <td>2021</td>\n",
       "      <td>DACIA</td>\n",
       "      <td>Diesel</td>\n",
       "      <td>mécanique</td>\n",
       "      <td>22630€</td>\n",
       "    </tr>\n",
       "    <tr>\n",
       "      <td>163371</td>\n",
       "      <td>2021</td>\n",
       "      <td>BMW</td>\n",
       "      <td>Hybride essence électrique</td>\n",
       "      <td>automatique</td>\n",
       "      <td>72690€</td>\n",
       "    </tr>\n",
       "    <tr>\n",
       "      <td>258368</td>\n",
       "      <td>2021</td>\n",
       "      <td>PEUGEOT</td>\n",
       "      <td>Essence</td>\n",
       "      <td>automatique</td>\n",
       "      <td>38980€</td>\n",
       "    </tr>\n",
       "    <tr>\n",
       "      <td>87725</td>\n",
       "      <td>2021</td>\n",
       "      <td>MERCEDES</td>\n",
       "      <td>Hybride essence électrique</td>\n",
       "      <td>automatique</td>\n",
       "      <td>79390€</td>\n",
       "    </tr>\n",
       "    <tr>\n",
       "      <td>163438</td>\n",
       "      <td>2021</td>\n",
       "      <td>AUDI</td>\n",
       "      <td>Diesel</td>\n",
       "      <td>automatique</td>\n",
       "      <td>104130€</td>\n",
       "    </tr>\n",
       "    <tr>\n",
       "      <td>163458</td>\n",
       "      <td>2021</td>\n",
       "      <td>BMW</td>\n",
       "      <td>Diesel</td>\n",
       "      <td>automatique</td>\n",
       "      <td>52200€</td>\n",
       "    </tr>\n",
       "    <tr>\n",
       "      <td>87705</td>\n",
       "      <td>2021</td>\n",
       "      <td>MITSUBISHI</td>\n",
       "      <td>Hybride essence électrique</td>\n",
       "      <td>automatique</td>\n",
       "      <td>51450€</td>\n",
       "    </tr>\n",
       "  </tbody>\n",
       "</table>\n",
       "</div>"
      ],
      "text/plain": [
       "       annee      marque                     energie boite_de_vitesse    price\n",
       "171777  2021        AUDI  Hybride essence électrique      automatique   50340€\n",
       "161136  2021     BENTLEY                     Essence      automatique  322040€\n",
       "163161  2021        AUDI                     Essence      automatique  174600€\n",
       "163173  2021         BMW                  Electrique      automatique   44580€\n",
       "21052   2021       DACIA                      Diesel        mécanique   24090€\n",
       "87848   2021  MITSUBISHI  Hybride essence électrique      automatique   48380€\n",
       "21057   2021       DACIA                     Essence        mécanique   11040€\n",
       "21061   2021       DACIA                      Diesel        mécanique   24400€\n",
       "87830   2021  MITSUBISHI  Hybride essence électrique      automatique   42440€\n",
       "87799   2021    MERCEDES                      Diesel      automatique   52380€\n",
       "87788   2021    MERCEDES                      Diesel      automatique   46280€\n",
       "163319  2021        AUDI                     Essence        mécanique   24130€\n",
       "258412  2021     RENAULT                      Diesel      automatique   32560€\n",
       "21118   2021       DACIA                      Diesel        mécanique   22630€\n",
       "163371  2021         BMW  Hybride essence électrique      automatique   72690€\n",
       "258368  2021     PEUGEOT                     Essence      automatique   38980€\n",
       "87725   2021    MERCEDES  Hybride essence électrique      automatique   79390€\n",
       "163438  2021        AUDI                      Diesel      automatique  104130€\n",
       "163458  2021         BMW                      Diesel      automatique   52200€\n",
       "87705   2021  MITSUBISHI  Hybride essence électrique      automatique   51450€"
      ]
     },
     "execution_count": 6,
     "metadata": {},
     "output_type": "execute_result"
    }
   ],
   "source": [
    "data[['annee','marque','energie','boite_de_vitesse','price']].sort_values('annee',ascending=False).head(20)"
   ]
  },
  {
   "cell_type": "code",
   "execution_count": 7,
   "metadata": {},
   "outputs": [
    {
     "data": {
      "text/plain": [
       "['scrapy_car']"
      ]
     },
     "execution_count": 7,
     "metadata": {},
     "output_type": "execute_result"
    }
   ],
   "source": [
    "db.list_collection_names()"
   ]
  },
  {
   "cell_type": "code",
   "execution_count": 8,
   "metadata": {},
   "outputs": [],
   "source": [
    "client.close()"
   ]
  },
  {
   "cell_type": "code",
   "execution_count": null,
   "metadata": {},
   "outputs": [],
   "source": []
  }
 ],
 "metadata": {
  "kernelspec": {
   "display_name": "Python 3",
   "language": "python",
   "name": "python3"
  },
  "language_info": {
   "codemirror_mode": {
    "name": "ipython",
    "version": 3
   },
   "file_extension": ".py",
   "mimetype": "text/x-python",
   "name": "python",
   "nbconvert_exporter": "python",
   "pygments_lexer": "ipython3",
   "version": "3.7.4"
  }
 },
 "nbformat": 4,
 "nbformat_minor": 2
}
